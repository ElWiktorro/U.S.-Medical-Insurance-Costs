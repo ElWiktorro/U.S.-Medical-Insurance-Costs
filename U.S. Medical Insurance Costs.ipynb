{
 "cells": [
  {
   "cell_type": "markdown",
   "id": "267ba1fa",
   "metadata": {},
   "source": [
    "# U.S. Medical Insurance Costs"
   ]
  },
  {
   "cell_type": "code",
   "execution_count": 1,
   "id": "0aba9e66",
   "metadata": {},
   "outputs": [],
   "source": [
    "#importing csv library\n",
    "import csv"
   ]
  },
  {
   "cell_type": "code",
   "execution_count": 2,
   "id": "8638955f",
   "metadata": {},
   "outputs": [],
   "source": [
    "#creating empty list for each column in insurance.csv\n",
    "ages = []\n",
    "sexes = []\n",
    "bmis = []\n",
    "childrens = []\n",
    "smokers = []\n",
    "regions = []\n",
    "charges = []"
   ]
  },
  {
   "cell_type": "code",
   "execution_count": 4,
   "id": "f13161d3",
   "metadata": {},
   "outputs": [],
   "source": [
    "#creating function which open insurance.csv and appending values to lists\n",
    "def appending_rows(lst, column_name):\n",
    "    with open('insurance.csv') as insurance_costs:\n",
    "        insurance_dictreader = csv.DictReader(insurance_costs)\n",
    "        \n",
    "        for row in insurance_dictreader:\n",
    "            lst.append(row[column_name])"
   ]
  },
  {
   "cell_type": "code",
   "execution_count": 9,
   "id": "b896d27c",
   "metadata": {},
   "outputs": [],
   "source": [
    "#loading data from insurance.csv into lists using appending_rows function\n",
    "appending_rows(ages, 'age')\n",
    "appending_rows(sexes, 'sex')\n",
    "appending_rows(bmis, 'bmi')\n",
    "appending_rows(childrens, 'children')\n",
    "appending_rows(smokers, 'smoker')\n",
    "appending_rows(regions, 'region')\n",
    "appending_rows(charges, 'charges')"
   ]
  },
  {
   "cell_type": "code",
   "execution_count": 23,
   "id": "4f667600",
   "metadata": {},
   "outputs": [],
   "source": [
    "#defining Medical Cost Dataset class and methods\n",
    "class MedicalCostDataset:\n",
    "# using constructor giving new object dataset's attributes\n",
    "    def __init__(self, ages, sexes, bmis, childrens, smokers, regions, charges):\n",
    "        self.ages = ages\n",
    "        self.sexes = sexes\n",
    "        self.bmis = bmis\n",
    "        self.childrens = childrens\n",
    "        self.smokers = smokers\n",
    "        self.regions = regions\n",
    "        self.charges = charges\n",
    "        print(\"You created patients_dataset instance of MedicalCostDataset including attributes such as: age,sex,bmi,children,smoker, region and charges\")\n",
    "# finding out the average age of the patients in the dataset\n",
    "    def fo_average_age(self):\n",
    "        sum_of_ages = 0\n",
    "        for age in self.ages:\n",
    "            sum_of_ages += int(age)\n",
    "        self.average_age = round(sum_of_ages/len(self.ages), 2)\n",
    "        print(\"The average age of patients from this dataset is {}\".format(self.average_age))\n",
    "        return self.average_age\n",
    "\n",
    "# analyzing where a majority of the individuals are from\n",
    "    def analyze_most_frequent_region(self):\n",
    "        regions_dict = {}\n",
    "        for region in self.regions:\n",
    "            if not region in regions_dict:\n",
    "                regions_dict[region] = 1\n",
    "            else:\n",
    "                regions_dict[region] += 1\n",
    "        region_name = ''\n",
    "        region_count = 0\n",
    "        for key, value in regions_dict.items():\n",
    "            if value > region_count:\n",
    "                region_name = key\n",
    "        self.most_frequent_region = region_name\n",
    "        print(\"The majority of the individuals are from {this_region}\".format(this_region = self.most_frequent_region))\n",
    "        return self.most_frequent_region\n",
    "# looking at the different costs between smokers vs non smokers\n",
    "    def costs_difference(self):\n",
    "        sum_of_smokers_costs = 0\n",
    "        sum_of_non_smokers_costs = 0\n",
    "        for n in range(len(self.smokers)):\n",
    "            if self.smokers[n] == 'yes':\n",
    "                sum_of_smokers_costs += float(self.charges[n])\n",
    "            else:\n",
    "                sum_of_non_smokers_costs = float(self.charges[n])\n",
    "        self.average_for_smokers = sum_of_smokers_costs/self.smokers.count('yes')\n",
    "        self.average_for_non_smokers = sum_of_smokers_costs/self.smokers.count('no')\n",
    "        \n",
    "        self.averages_difference = self.average_for_smokers - self.average_for_non_smokers\n",
    "        \n",
    "        print('''Average insurance costs for smokers: {}\n",
    "        Average insurance costs for non smokers: {}\n",
    "        Difference between them: {}'''.format(self.average_for_smokers, self.average_for_non_smokers, self.averages_difference))\n",
    "        \n",
    "        return self.averages_difference\n",
    "# figuring out what the average age is for someone who has at least one child in dataset\n",
    "    def parent_average_age(self):\n",
    "        sum_of_age = 0\n",
    "        counter = 0\n",
    "        for n in range(len(self.childrens)):\n",
    "            if int(self.childrens[n]) != 0:\n",
    "                sum_of_age += int(self.ages[n])\n",
    "                counter += 1\n",
    "        self.parent_avg_age = sum_of_age/counter\n",
    "        print(\"The average age for parent in this dataset is: \" + self.parent_avg_age)\n",
    "        return self.parent_avg_age"
   ]
  },
  {
   "cell_type": "code",
   "execution_count": 16,
   "id": "bad5134a",
   "metadata": {},
   "outputs": [
    {
     "name": "stdout",
     "output_type": "stream",
     "text": [
      "You created patients_dataset instance of MedicalCostDataset including attributes such as: age,sex,bmi,children,smoker, region and charges\n"
     ]
    }
   ],
   "source": [
    "# creating instance of a MedicalCostDataset class\n",
    "patients_dataset = MedicalCostDataset(ages, sexes, bmis, childrens, smokers, regions, charges)"
   ]
  },
  {
   "cell_type": "code",
   "execution_count": 17,
   "id": "8b1b0c1d",
   "metadata": {},
   "outputs": [
    {
     "name": "stdout",
     "output_type": "stream",
     "text": [
      "The average age of patients from this dataset is 39.21\n"
     ]
    },
    {
     "data": {
      "text/plain": [
       "39.21"
      ]
     },
     "execution_count": 17,
     "metadata": {},
     "output_type": "execute_result"
    }
   ],
   "source": [
    "#using fo_average_age method for us patients_dataset instance\n",
    "patients_dataset.fo_average_age()"
   ]
  },
  {
   "cell_type": "code",
   "execution_count": 25,
   "id": "f45ce03f",
   "metadata": {},
   "outputs": [
    {
     "ename": "TypeError",
     "evalue": "unhashable type: 'list'",
     "output_type": "error",
     "traceback": [
      "\u001b[1;31m---------------------------------------------------------------------------\u001b[0m",
      "\u001b[1;31mTypeError\u001b[0m                                 Traceback (most recent call last)",
      "Input \u001b[1;32mIn [25]\u001b[0m, in \u001b[0;36m<cell line: 2>\u001b[1;34m()\u001b[0m\n\u001b[0;32m      1\u001b[0m \u001b[38;5;66;03m#using analyze_most_frequent_region method for us patients_dataset instance\u001b[39;00m\n\u001b[1;32m----> 2\u001b[0m \u001b[43mpatients_dataset\u001b[49m\u001b[38;5;241;43m.\u001b[39;49m\u001b[43manalyze_most_frequent_region\u001b[49m\u001b[43m(\u001b[49m\u001b[43m)\u001b[49m\n",
      "Input \u001b[1;32mIn [15]\u001b[0m, in \u001b[0;36mMedicalCostDataset.analyze_most_frequent_region\u001b[1;34m(self)\u001b[0m\n\u001b[0;32m     27\u001b[0m         regions_dict[region] \u001b[38;5;241m=\u001b[39m \u001b[38;5;241m1\u001b[39m\n\u001b[0;32m     28\u001b[0m     \u001b[38;5;28;01melse\u001b[39;00m:\n\u001b[1;32m---> 29\u001b[0m         regions_dict[regions] \u001b[38;5;241m+\u001b[39m\u001b[38;5;241m=\u001b[39m \u001b[38;5;241m1\u001b[39m\n\u001b[0;32m     30\u001b[0m region_name \u001b[38;5;241m=\u001b[39m \u001b[38;5;124m'\u001b[39m\u001b[38;5;124m'\u001b[39m\n\u001b[0;32m     31\u001b[0m region_count \u001b[38;5;241m=\u001b[39m \u001b[38;5;241m0\u001b[39m\n",
      "\u001b[1;31mTypeError\u001b[0m: unhashable type: 'list'"
     ]
    }
   ],
   "source": [
    "#using analyze_most_frequent_region method for us patients_dataset instance\n",
    "patients_dataset.analyze_most_frequent_region()"
   ]
  }
 ],
 "metadata": {
  "kernelspec": {
   "display_name": "Python 3 (ipykernel)",
   "language": "python",
   "name": "python3"
  },
  "language_info": {
   "codemirror_mode": {
    "name": "ipython",
    "version": 3
   },
   "file_extension": ".py",
   "mimetype": "text/x-python",
   "name": "python",
   "nbconvert_exporter": "python",
   "pygments_lexer": "ipython3",
   "version": "3.9.12"
  }
 },
 "nbformat": 4,
 "nbformat_minor": 5
}
